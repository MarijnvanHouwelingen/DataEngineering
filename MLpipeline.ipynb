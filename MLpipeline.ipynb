{
 "cells": [
  {
   "cell_type": "markdown",
   "id": "e3bf0613-d6ec-4cf4-87e5-062fd3bd3a82",
   "metadata": {},
   "source": [
    "### Installation\n",
    "Install the packages required for executing this notebook."
   ]
  },
  {
   "cell_type": "markdown",
   "id": "611aeefc-f5ce-40e8-acc7-d04ac84da39a",
   "metadata": {},
   "source": [
    "## Some of the source codes are based on\n",
    "https://towardsdatascience.com/how-to-set-up-custom-vertex-ai-pipelines-step-by-step-467487f81cad "
   ]
  },
  {
   "cell_type": "code",
   "execution_count": 115,
   "id": "69f1d825-84cc-43ac-9fe2-f204d77f0962",
   "metadata": {},
   "outputs": [
    {
     "name": "stdout",
     "output_type": "stream",
     "text": [
      "Requirement already satisfied: kfp>2 in /opt/conda/lib/python3.10/site-packages (2.3.0)\n",
      "Requirement already satisfied: google-cloud-pipeline-components>2 in /home/jupyter/.local/lib/python3.10/site-packages (2.4.1)\n",
      "Requirement already satisfied: google-cloud-aiplatform in /home/jupyter/.local/lib/python3.10/site-packages (1.35.0)\n",
      "Requirement already satisfied: click<9,>=8.0.0 in /opt/conda/lib/python3.10/site-packages (from kfp>2) (8.1.7)\n",
      "Requirement already satisfied: docstring-parser<1,>=0.7.3 in /opt/conda/lib/python3.10/site-packages (from kfp>2) (0.15)\n",
      "Requirement already satisfied: google-api-core!=2.0.*,!=2.1.*,!=2.2.*,!=2.3.0,<3.0.0dev,>=1.31.5 in /opt/conda/lib/python3.10/site-packages (from kfp>2) (1.34.0)\n",
      "Requirement already satisfied: google-auth<3,>=1.6.1 in /opt/conda/lib/python3.10/site-packages (from kfp>2) (2.23.0)\n",
      "Requirement already satisfied: google-cloud-storage<3,>=2.2.1 in /opt/conda/lib/python3.10/site-packages (from kfp>2) (2.11.0)\n",
      "Requirement already satisfied: kfp-pipeline-spec==0.2.2 in /opt/conda/lib/python3.10/site-packages (from kfp>2) (0.2.2)\n",
      "Requirement already satisfied: kfp-server-api<2.1.0,>=2.0.0 in /opt/conda/lib/python3.10/site-packages (from kfp>2) (2.0.1)\n",
      "Requirement already satisfied: kubernetes<27,>=8.0.0 in /opt/conda/lib/python3.10/site-packages (from kfp>2) (26.1.0)\n",
      "Requirement already satisfied: protobuf<4,>=3.13.0 in /opt/conda/lib/python3.10/site-packages (from kfp>2) (3.20.3)\n",
      "Requirement already satisfied: PyYAML<7,>=5.3 in /opt/conda/lib/python3.10/site-packages (from kfp>2) (6.0.1)\n",
      "Requirement already satisfied: requests-toolbelt<1,>=0.8.0 in /opt/conda/lib/python3.10/site-packages (from kfp>2) (0.10.1)\n",
      "Requirement already satisfied: tabulate<1,>=0.8.6 in /opt/conda/lib/python3.10/site-packages (from kfp>2) (0.9.0)\n",
      "Requirement already satisfied: urllib3<2.0.0 in /opt/conda/lib/python3.10/site-packages (from kfp>2) (1.26.16)\n",
      "Requirement already satisfied: Jinja2==3.1.2 in /opt/conda/lib/python3.10/site-packages (from google-cloud-pipeline-components>2) (3.1.2)\n",
      "Requirement already satisfied: MarkupSafe>=2.0 in /opt/conda/lib/python3.10/site-packages (from Jinja2==3.1.2->google-cloud-pipeline-components>2) (2.1.3)\n",
      "Requirement already satisfied: proto-plus<2.0.0dev,>=1.22.0 in /opt/conda/lib/python3.10/site-packages (from google-cloud-aiplatform) (1.22.3)\n",
      "Requirement already satisfied: packaging>=14.3 in /opt/conda/lib/python3.10/site-packages (from google-cloud-aiplatform) (23.1)\n",
      "Requirement already satisfied: google-cloud-bigquery<4.0.0dev,>=1.15.0 in /opt/conda/lib/python3.10/site-packages (from google-cloud-aiplatform) (3.11.4)\n",
      "Requirement already satisfied: google-cloud-resource-manager<3.0.0dev,>=1.3.3 in /opt/conda/lib/python3.10/site-packages (from google-cloud-aiplatform) (1.10.4)\n",
      "Requirement already satisfied: shapely<3.0.0dev in /opt/conda/lib/python3.10/site-packages (from google-cloud-aiplatform) (1.8.5.post1)\n",
      "Requirement already satisfied: googleapis-common-protos<2.0dev,>=1.56.2 in /opt/conda/lib/python3.10/site-packages (from google-api-core!=2.0.*,!=2.1.*,!=2.2.*,!=2.3.0,<3.0.0dev,>=1.31.5->kfp>2) (1.60.0)\n",
      "Requirement already satisfied: requests<3.0.0dev,>=2.18.0 in /opt/conda/lib/python3.10/site-packages (from google-api-core!=2.0.*,!=2.1.*,!=2.2.*,!=2.3.0,<3.0.0dev,>=1.31.5->kfp>2) (2.31.0)\n",
      "Requirement already satisfied: grpcio<2.0dev,>=1.33.2 in /opt/conda/lib/python3.10/site-packages (from google-api-core!=2.0.*,!=2.1.*,!=2.2.*,!=2.3.0,<3.0.0dev,>=1.31.5->kfp>2) (1.58.0)\n",
      "Requirement already satisfied: grpcio-status<2.0dev,>=1.33.2 in /opt/conda/lib/python3.10/site-packages (from google-api-core!=2.0.*,!=2.1.*,!=2.2.*,!=2.3.0,<3.0.0dev,>=1.31.5->kfp>2) (1.48.2)\n",
      "Requirement already satisfied: cachetools<6.0,>=2.0.0 in /opt/conda/lib/python3.10/site-packages (from google-auth<3,>=1.6.1->kfp>2) (5.3.1)\n",
      "Requirement already satisfied: pyasn1-modules>=0.2.1 in /opt/conda/lib/python3.10/site-packages (from google-auth<3,>=1.6.1->kfp>2) (0.3.0)\n",
      "Requirement already satisfied: rsa<5,>=3.1.4 in /opt/conda/lib/python3.10/site-packages (from google-auth<3,>=1.6.1->kfp>2) (4.9)\n",
      "Requirement already satisfied: google-cloud-core<3.0.0dev,>=1.6.0 in /opt/conda/lib/python3.10/site-packages (from google-cloud-bigquery<4.0.0dev,>=1.15.0->google-cloud-aiplatform) (2.3.3)\n",
      "Requirement already satisfied: google-resumable-media<3.0dev,>=0.6.0 in /opt/conda/lib/python3.10/site-packages (from google-cloud-bigquery<4.0.0dev,>=1.15.0->google-cloud-aiplatform) (2.6.0)\n",
      "Requirement already satisfied: python-dateutil<3.0dev,>=2.7.2 in /opt/conda/lib/python3.10/site-packages (from google-cloud-bigquery<4.0.0dev,>=1.15.0->google-cloud-aiplatform) (2.8.2)\n",
      "Requirement already satisfied: grpc-google-iam-v1<1.0.0dev,>=0.12.4 in /opt/conda/lib/python3.10/site-packages (from google-cloud-resource-manager<3.0.0dev,>=1.3.3->google-cloud-aiplatform) (0.12.6)\n",
      "Requirement already satisfied: six>=1.10 in /opt/conda/lib/python3.10/site-packages (from kfp-server-api<2.1.0,>=2.0.0->kfp>2) (1.16.0)\n",
      "Requirement already satisfied: certifi in /opt/conda/lib/python3.10/site-packages (from kfp-server-api<2.1.0,>=2.0.0->kfp>2) (2023.7.22)\n",
      "Requirement already satisfied: setuptools>=21.0.0 in /opt/conda/lib/python3.10/site-packages (from kubernetes<27,>=8.0.0->kfp>2) (68.2.2)\n",
      "Requirement already satisfied: websocket-client!=0.40.0,!=0.41.*,!=0.42.*,>=0.32.0 in /opt/conda/lib/python3.10/site-packages (from kubernetes<27,>=8.0.0->kfp>2) (1.6.3)\n",
      "Requirement already satisfied: requests-oauthlib in /opt/conda/lib/python3.10/site-packages (from kubernetes<27,>=8.0.0->kfp>2) (1.3.1)\n",
      "Requirement already satisfied: google-crc32c<2.0dev,>=1.0 in /opt/conda/lib/python3.10/site-packages (from google-resumable-media<3.0dev,>=0.6.0->google-cloud-bigquery<4.0.0dev,>=1.15.0->google-cloud-aiplatform) (1.5.0)\n",
      "Requirement already satisfied: pyasn1<0.6.0,>=0.4.6 in /opt/conda/lib/python3.10/site-packages (from pyasn1-modules>=0.2.1->google-auth<3,>=1.6.1->kfp>2) (0.5.0)\n",
      "Requirement already satisfied: charset-normalizer<4,>=2 in /opt/conda/lib/python3.10/site-packages (from requests<3.0.0dev,>=2.18.0->google-api-core!=2.0.*,!=2.1.*,!=2.2.*,!=2.3.0,<3.0.0dev,>=1.31.5->kfp>2) (3.2.0)\n",
      "Requirement already satisfied: idna<4,>=2.5 in /opt/conda/lib/python3.10/site-packages (from requests<3.0.0dev,>=2.18.0->google-api-core!=2.0.*,!=2.1.*,!=2.2.*,!=2.3.0,<3.0.0dev,>=1.31.5->kfp>2) (3.4)\n",
      "Requirement already satisfied: oauthlib>=3.0.0 in /opt/conda/lib/python3.10/site-packages (from requests-oauthlib->kubernetes<27,>=8.0.0->kfp>2) (3.2.2)\n"
     ]
    }
   ],
   "source": [
    "# Install the packages\n",
    "! pip3 install --user --no-cache-dir --upgrade \"kfp>2\" \"google-cloud-pipeline-components>2\" \\\n",
    "                                        google-cloud-aiplatform"
   ]
  },
  {
   "cell_type": "markdown",
   "id": "62bc6a21-604f-4a52-b904-e3bb18a61b2f",
   "metadata": {},
   "source": [
    "## Restart the kernel\n",
    "Once you've installed the additional packages, you need to restart the notebook kernel so it can find the packages."
   ]
  },
  {
   "cell_type": "code",
   "execution_count": 15,
   "id": "52dad0c4-c173-46b8-bf99-d6e8efc35316",
   "metadata": {},
   "outputs": [],
   "source": [
    "import os\n",
    "\n",
    "if not os.getenv(\"IS_TESTING\"):\n",
    "    # Automatically restart kernel after installs\n",
    "    import IPython\n",
    "\n",
    "    app = IPython.Application.instance()\n",
    "    app.kernel.do_shutdown(True)"
   ]
  },
  {
   "cell_type": "markdown",
   "id": "f2207b06-771f-4dbb-a713-90c50745c0ea",
   "metadata": {},
   "source": [
    "Check the versions of the packages you installed. The KFP SDK version should be >=1.6."
   ]
  },
  {
   "cell_type": "code",
   "execution_count": 40,
   "id": "b5b60838-e5a2-41cd-ae93-43925343fba5",
   "metadata": {},
   "outputs": [
    {
     "name": "stdout",
     "output_type": "stream",
     "text": [
      "KFP SDK version: 2.3.0\n",
      "google-cloud-aiplatform==1.35.0\n",
      "google_cloud_pipeline_components version: 2.4.1\n"
     ]
    }
   ],
   "source": [
    "! python3 -c \"import kfp; print('KFP SDK version: {}'.format(kfp.__version__))\"\n",
    "! pip3 freeze | grep aiplatform\n",
    "! python3 -c \"import google_cloud_pipeline_components; print('google_cloud_pipeline_components version: {}'.format(google_cloud_pipeline_components.__version__))\""
   ]
  },
  {
   "cell_type": "code",
   "execution_count": 41,
   "id": "5f0bcff2-3ffb-4e51-b852-511cb10ad0f9",
   "metadata": {},
   "outputs": [],
   "source": [
    "import kfp\n",
    "import typing\n",
    "from typing import Dict\n",
    "from typing import NamedTuple\n",
    "from kfp import dsl\n",
    "from kfp.dsl import (Artifact,\n",
    "                        Dataset,\n",
    "                        Input,\n",
    "                        Model,\n",
    "                        Output,\n",
    "                        Metrics,\n",
    "                        ClassificationMetrics,\n",
    "                        component, \n",
    "                        OutputPath, \n",
    "                        InputPath)\n",
    "import google.cloud.aiplatform as aip\n",
    "from google_cloud_pipeline_components.v1.model import ModelUploadOp\n",
    "from google_cloud_pipeline_components.v1.endpoint import (EndpointCreateOp,ModelDeployOp)\n",
    "from google_cloud_pipeline_components.types import artifact_types"
   ]
  },
  {
   "cell_type": "markdown",
   "id": "01afffb0-449b-4669-807a-793f526277fe",
   "metadata": {},
   "source": [
    "#### Project and Pipeline Configurations"
   ]
  },
  {
   "cell_type": "code",
   "execution_count": 42,
   "id": "abf6aad4-f675-47aa-820b-14daa796d89f",
   "metadata": {},
   "outputs": [],
   "source": [
    "#The Google Cloud project that this pipeline runs in.\n",
    "PROJECT_ID = \"assignment-1-399115\"\n",
    "# The region that this pipeline runs in\n",
    "REGION = \"us-central1\"\n",
    "# Specify a Cloud Storage URI that your pipelines service account can access. The artifacts of your pipeline runs are stored within the pipeline root.\n",
    "PIPELINE_ROOT = \"gs://temp_de2023_2056332\"\n",
    "# Specify your assignment\n",
    "ASSIGNMENT = \"Assignment_1\""
   ]
  },
  {
   "cell_type": "markdown",
   "id": "05bace39-57ba-49ee-bd74-9eaf4093f471",
   "metadata": {},
   "source": [
    "#### Create Pipeline Components\n",
    "\n",
    "We can create a component from Python functions (inline) and from a container. We will first try inline python functions. \n",
    "Refer to  https://www.kubeflow.org/docs/components/pipelines/v2/components/lightweight-python-components/ for more information."
   ]
  },
  {
   "cell_type": "markdown",
   "id": "2457ef88-cd95-4304-b6e0-143b718c44aa",
   "metadata": {},
   "source": [
    "#### Pipeline Component : Download and Merge"
   ]
  },
  {
   "cell_type": "code",
   "execution_count": 155,
   "id": "8461687a",
   "metadata": {},
   "outputs": [],
   "source": [
    "@dsl.component(\n",
    "    packages_to_install=[\"pandas\",\"google-cloud-storage\"],\n",
    "    base_image=\"python:3.10.7-slim\"\n",
    ")\n",
    "def download_data(project_id: str, bucket: str, feature_dataset_name: str, label_dataset_name: str, \n",
    "                  feature_dataset: Output[Dataset], label_dataset: Output[Dataset]):\n",
    "    '''Download data'''\n",
    "    from google.cloud import storage\n",
    "    import pandas as pd\n",
    "    import logging \n",
    "    import sys\n",
    "    \n",
    "    logging.basicConfig(stream=sys.stdout, level=logging.INFO)\n",
    "    \n",
    "    # Get the client and bucket\n",
    "    client = storage.Client(project=project_id)\n",
    "    bucket = client.bucket(bucket)\n",
    "\n",
    "     # Download the feature dataset\n",
    "    blob1 = bucket.blob(feature_dataset_name)\n",
    "    blob1.download_to_filename(feature_dataset.path + \".csv\")\n",
    "    \n",
    "    # Download the label dataset\n",
    "    blob2 = bucket.blob(label_dataset_name)\n",
    "    blob2.download_to_filename(label_dataset.path + \".csv\")\n",
    "   \n",
    "    logging.info('Download & Merge all Data complete!')"
   ]
  },
  {
   "cell_type": "code",
   "execution_count": 156,
   "id": "5175c3ea-502f-46f9-8f60-30c5ffb2485b",
   "metadata": {},
   "outputs": [],
   "source": [
    "@dsl.component(\n",
    "    packages_to_install=[\"pandas\"],\n",
    "    base_image=\"python:3.10.7-slim\"\n",
    ")\n",
    "\n",
    "def merge_data(feature_dataset: Input[Dataset], label_dataset: Input[Dataset], merged_dataset: Output[Dataset]):\n",
    "    import pandas as pd\n",
    "    import logging \n",
    "    import sys\n",
    "    # Download the datasets\n",
    "    df_feature = pd.read_csv(feature_dataset.path + \".csv\",index_col=None)\n",
    "    df_label = pd.read_csv(label_dataset.path + \".csv\",index_col=None)\n",
    "    # merge them together\n",
    "    merged_df = pd.merge(df_feature, df_label, on='Ind_ID')\n",
    "    merged_df.to_csv(merged_dataset.path + \".csv\", index=False, encoding='utf-8-sig')"
   ]
  },
  {
   "cell_type": "markdown",
   "id": "12a46230",
   "metadata": {},
   "source": [
    "### Clean the dataset"
   ]
  },
  {
   "cell_type": "code",
   "execution_count": 157,
   "id": "7b2021e1",
   "metadata": {},
   "outputs": [],
   "source": [
    "@dsl.component(\n",
    "    packages_to_install=[\"pandas\", \"numpy\"],\n",
    "    base_image=\"python:3.10.7-slim\"\n",
    ")\n",
    "def clean_data(merged_dataset: Input[Dataset], cleaned_dataset: Output[Dataset]):\n",
    "    '''Deletes irrelevant columns and removes NA's'''\n",
    "    import pandas as pd\n",
    "    import logging\n",
    "    import sys\n",
    "    import numpy\n",
    "\n",
    "    # Sets the logging config\n",
    "    logging.basicConfig(stream=sys.stdout, level=logging.INFO) \n",
    "\n",
    "    #Loads the merged dataset in\n",
    "    df = pd.read_csv(merged_dataset.path + \".csv\", index_col=None)\n",
    "\n",
    "    # Drops the columns: Birthday_count, Employed_days, Mobile_phone, Work_Phone, Phone, EMAIL_ID, Type_Occupation and Family_Members.\n",
    "    cleandf = df.drop(columns= [\"Type_Income\",\"EDUCATION\",\"Marital_status\",\"Housing_type\", \"Birthday_count\", \"Employed_days\", \"Mobile_phone\", \"Work_Phone\", \"Phone\", \"EMAIL_ID\", \"Type_Occupation\", \"Family_Members\"])\n",
    "    # make everything in 0 and 1\n",
    "    cleandf[\"GENDER\"].replace({\"M\":1,\"F\":0}, inplace = True)\n",
    "    cleandf[\"Car_Owner\"].replace({\"Y\":1,\"N\":0}, inplace = True)\n",
    "    cleandf[\"Propert_Owner\"].replace({\"Y\":1,\"N\":0}, inplace = True)\n",
    "    cleandf.dropna(inplace = True)\n",
    "    # Save the cleaned dataset\n",
    "    cleandf.to_csv(cleaned_dataset.path + \".csv\", index=False, encoding='utf-8-sig')\n",
    "    \n",
    "    \n"
   ]
  },
  {
   "cell_type": "markdown",
   "id": "dda71752",
   "metadata": {},
   "source": [
    "### Split the dataset With Train-Test-Split"
   ]
  },
  {
   "cell_type": "code",
   "execution_count": 158,
   "id": "83bc305f-2456-4c07-b89f-427b0f24eaf2",
   "metadata": {},
   "outputs": [],
   "source": [
    "@dsl.component(\n",
    "    packages_to_install=[\"pandas\", \"scikit-learn\"],\n",
    "    base_image=\"python:3.10.7-slim\"\n",
    ")\n",
    "def train_test_split(cleaned_dataset: Input[Dataset], dataset_train: Output[Dataset], dataset_test: Output[Dataset]):\n",
    "    '''train_test_split'''\n",
    "    import pandas as pd\n",
    "    import logging \n",
    "    import sys\n",
    "    from sklearn.model_selection import train_test_split as tts\n",
    "    \n",
    "    logging.basicConfig(stream=sys.stdout, level=logging.INFO) \n",
    "    \n",
    "    # get the cleaned data from previous component\n",
    "    alldata = pd.read_csv(cleaned_dataset.path + \".csv\", index_col=None) \n",
    "    \n",
    "    #create a train and test dataset\n",
    "    train, test = tts(alldata, test_size=0.3)\n",
    "\n",
    "    #create a train.csv file and a test.csv file\n",
    "    train.to_csv(dataset_train.path + \".csv\" , index=False, encoding='utf-8-sig')\n",
    "    test.to_csv(dataset_test.path + \".csv\" , index=False, encoding='utf-8-sig')\n"
   ]
  },
  {
   "cell_type": "markdown",
   "id": "f911d312-549c-4be7-bef0-e02c9d8cf80f",
   "metadata": {},
   "source": [
    "#### Pipeline Component : Training LogisticRegression"
   ]
  },
  {
   "cell_type": "code",
   "execution_count": 159,
   "id": "acee72f0-007a-4e9c-853a-e6cf66f2a4fa",
   "metadata": {},
   "outputs": [],
   "source": [
    "@dsl.component(\n",
    "    packages_to_install=[\"pandas\", \"scikit-learn\"],\n",
    "    base_image=\"python:3.10.7-slim\"\n",
    ")\n",
    "def train_lr(train_dataset: Input[Dataset], test_dataset: Input[Dataset], model: Output[Model]) -> NamedTuple('outputs', metrics=dict):\n",
    "    '''train a LogisticRegression with default parameters'''\n",
    "    import pandas as pd\n",
    "    from sklearn.linear_model import LogisticRegression\n",
    "    from sklearn.metrics import f1_score\n",
    "    import pickle \n",
    "    import logging \n",
    "    \n",
    "    # Read the training dataset\n",
    "    df_train = pd.read_csv(train_dataset.path + \".csv\")\n",
    "    df_test = pd.read_csv(test_dataset.path + \".csv\")\n",
    "    # Splitting the label and feature data\n",
    "    y_train = df_train[\"label\"]\n",
    "    X_train = df_train.drop(\"label\", axis = 1)\n",
    "    \n",
    "    # test dataset\n",
    "    y_test = df_test[\"label\"]\n",
    "    X_test = df_test.drop(\"label\", axis = 1)\n",
    "    \n",
    "    # Initiating a logistic regression model with default parameters\n",
    "    model_lr = LogisticRegression()\n",
    "    model_lr.fit(X_train, y_train)\n",
    "    \n",
    "    y_pred = model_lr.predict(X_test)\n",
    "    # Get the F1 Score score of the lr model\n",
    "    metrics_dict = {\n",
    "    \"f1_score\": f1_score(y_test,y_pred, average = \"binary\")\n",
    "    }\n",
    "    \n",
    "    logging.info(metrics_dict)\n",
    "    # Save metadata to the Logistic regression model\n",
    "    model.metadata[\"framework\"] = \"LR\"\n",
    "    model.metadata[\"parameters\"] = \"Default\"\n",
    "\n",
    "    # Save the model as pickle file \n",
    "    file_name = model.path + f\".pkl\"\n",
    "    with open(file_name, 'wb') as file:  \n",
    "        pickle.dump(model_lr, file)\n",
    "    \n",
    "    outputs = NamedTuple(\"outputs\", metrics=dict)\n",
    "    return outputs(metrics_dict)\n"
   ]
  },
  {
   "cell_type": "markdown",
   "id": "547327b2",
   "metadata": {},
   "source": [
    "#### Pipeline Component : Training KNeighborsClassifier"
   ]
  },
  {
   "cell_type": "code",
   "execution_count": 160,
   "id": "5747fe5c",
   "metadata": {},
   "outputs": [],
   "source": [
    "@dsl.component(\n",
    "    packages_to_install=[\"pandas\", \"scikit-learn\"],\n",
    "    base_image=\"python:3.10.7-slim\"\n",
    ")\n",
    "def train_knn(train_dataset: Input[Dataset], test_dataset: Input[Dataset], model: Output[Model]) -> NamedTuple('outputs', metrics=dict):\n",
    "    '''train a LogisticRegression with default parameters'''\n",
    "    import pandas as pd\n",
    "    from sklearn.neighbors import KNeighborsClassifier \n",
    "    from sklearn.metrics import f1_score\n",
    "    import pickle \n",
    "    import logging \n",
    "    \n",
    "    # Read the training dataset\n",
    "    df_train = pd.read_csv(train_dataset.path + \".csv\")\n",
    "    df_test = pd.read_csv(test_dataset.path + \".csv\")\n",
    "    # Splitting the label and feature data\n",
    "    y_train = df_train[\"label\"]\n",
    "    X_train = df_train.drop(\"label\", axis = 1)\n",
    " \n",
    "    # test dataset\n",
    "    y_test = df_test[\"label\"]\n",
    "    X_test = df_test.drop(\"label\", axis = 1)\n",
    "    \n",
    "    # Initiate a KNN with default parameters\n",
    "    model_knn = KNeighborsClassifier()\n",
    "    model_knn.fit(X_train, y_train)\n",
    "\n",
    "    y_pred = model_knn.predict(X_test)\n",
    "    # Get the F1 Score score of the lr model\n",
    "    metrics_dict = {\n",
    "    \"f1_score\": f1_score(y_test,y_pred, average = \"binary\")\n",
    "    }\n",
    "    # Save metadata to the KNN model\n",
    "    model.metadata[\"framework\"] = \"KNN\"\n",
    "    model.metadata[\"parameters\"] = \"Default\"\n",
    "    \n",
    "    logging.info(metrics_dict)\n",
    "    # Save the model as pickle file \n",
    "    file_name = model.path + f\".pkl\"\n",
    "    with open(file_name, 'wb') as file:  \n",
    "        pickle.dump(model_knn, file)   \n",
    "        \n",
    "    outputs = NamedTuple(\"outputs\", metrics=dict)\n",
    "    return outputs(metrics_dict)"
   ]
  },
  {
   "cell_type": "markdown",
   "id": "6ef0d919",
   "metadata": {},
   "source": [
    "#### Pipeline Component : Algorithm selection"
   ]
  },
  {
   "cell_type": "code",
   "execution_count": 161,
   "id": "9cc7db96",
   "metadata": {},
   "outputs": [],
   "source": [
    "@dsl.component(\n",
    "    base_image=\"python:3.10.7-slim\"\n",
    ")\n",
    "def compare_model(metrics_knn: dict, metrics_lr: dict) -> str:\n",
    "    import logging\n",
    "    import json\n",
    "    import sys\n",
    "    logging.basicConfig(stream=sys.stdout, level=logging.INFO)\n",
    "    logging.info(metrics_knn)\n",
    "    logging.info(metrics_lr)\n",
    "    if metrics_knn.get(\"f1_score\") > metrics_lr.get(\"f1_score\"):\n",
    "        return \"KNN\"\n",
    "    else :\n",
    "        return \"LR\""
   ]
  },
  {
   "cell_type": "markdown",
   "id": "b0cee80e",
   "metadata": {},
   "source": [
    "#### Pipeline Component: Logistic regression prediction"
   ]
  },
  {
   "cell_type": "code",
   "execution_count": 162,
   "id": "e7e3db5c",
   "metadata": {},
   "outputs": [],
   "source": [
    "@dsl.component(\n",
    "    packages_to_install = [\n",
    "       \"pandas\", \"scikit-learn\", \"numpy\"\n",
    "    ], base_image=\"python:3.10.7-slim\"\n",
    ")\n",
    "def predict_lr(model_lr: Input[Model],\n",
    "               test_data: Input[Dataset],\n",
    "               results: Output[Dataset]):\n",
    "    # Load in packages\n",
    "    import pandas as pd\n",
    "    import json\n",
    "    import logging\n",
    "    import sys\n",
    "    import os\n",
    "    import pickle\n",
    "\n",
    "    logging.basicConfig(stream=sys.stdout, level=logging.INFO)\n",
    "\n",
    "    # Load the test data\n",
    "    df = pd.read_csv(test_data.path+\".csv\")\n",
    "    \n",
    "    # Loading the saved logistic regression model with joblib\n",
    "    m_filename = model_lr.path + \".pkl\"\n",
    "    lr_model = pickle.load(open(m_filename, 'rb'))\n",
    "\n",
    "    # Split the test and train data\n",
    "    X_test = df.drop([\"label\"], axis=1)\n",
    "    y_test = df['label']\n",
    "\n",
    "    # Get and log the predictions of the knn model\n",
    "    y_pred = lr_model.predict(X_test)\n",
    "    logging.info(y_pred)\n",
    "\n",
    "    # save the predictions of the model on the testset\n",
    "    dfcp = df.copy()   \n",
    "    dfcp['pclass'] = y_pred.tolist()     \n",
    "    dfcp.to_csv(results.path + \".csv\" , index=False, encoding='utf-8-sig')\n"
   ]
  },
  {
   "cell_type": "markdown",
   "id": "2069b660",
   "metadata": {},
   "source": [
    "#### Pipeline Component: KNN Evaluation"
   ]
  },
  {
   "cell_type": "code",
   "execution_count": 163,
   "id": "9de4cd17",
   "metadata": {},
   "outputs": [],
   "source": [
    "@dsl.component(\n",
    "    packages_to_install = [\n",
    "       \"pandas\", \"scikit-learn\", \"numpy\"\n",
    "    ], base_image=\"python:3.10.7-slim\"\n",
    ")\n",
    "def predict_knn(model_knn: Input[Model],\n",
    "               test_data: Input[Dataset],\n",
    "               results: Output[Dataset]):\n",
    "    # Load in packages\n",
    "    import pandas as pd\n",
    "    import json\n",
    "    import logging\n",
    "    import sys\n",
    "    import os\n",
    "    import pickle\n",
    "\n",
    "    logging.basicConfig(stream=sys.stdout, level=logging.INFO)\n",
    "\n",
    "    # Load the test data\n",
    "    df = pd.read_csv(test_data.path+\".csv\")\n",
    "    \n",
    "    # Loading the saved knn model with joblib\n",
    "    m_filename = model_knn.path + \".pkl\"\n",
    "    knn_model = pickle.load(open(m_filename, 'rb'))\n",
    "\n",
    "    # Split the test and train data\n",
    "    X_test = df.drop([\"label\"], axis=1)\n",
    "    y_test = df['label']\n",
    "\n",
    "    # Get and log the predictions of the knn model\n",
    "    y_pred = knn_model.predict(X_test)\n",
    "    logging.info(y_pred)\n",
    "   \n",
    "    # Save the predictions of the model\n",
    "    dfcp = df.copy()   \n",
    "    dfcp['pclass'] = y_pred.tolist()     \n",
    "    dfcp.to_csv(results.path + \".csv\" , index=False, encoding='utf-8-sig')  \n",
    "    \n"
   ]
  },
  {
   "cell_type": "markdown",
   "id": "9aa41f3c-110d-4bde-bd99-22fcec229930",
   "metadata": {},
   "source": [
    "### Upload Model and Metrics to Google Bucket "
   ]
  },
  {
   "cell_type": "code",
   "execution_count": 164,
   "id": "c84923d8-2952-4ea0-8118-dc0ce7822f34",
   "metadata": {},
   "outputs": [],
   "source": [
    "@dsl.component(\n",
    "    packages_to_install=[\"google-cloud-storage\"],\n",
    "    base_image=\"python:3.10.7-slim\"\n",
    ")\n",
    "def upload_model_to_gcs(project_id: str, model_repo: str, model: Input[Model]):\n",
    "    '''upload model to gsc'''\n",
    "    from google.cloud import storage   \n",
    "    import logging \n",
    "    import sys\n",
    "    \n",
    "    logging.basicConfig(stream=sys.stdout, level=logging.INFO)    \n",
    "  \n",
    "    # upload the model to GCS\n",
    "    client = storage.Client(project=project_id)\n",
    "    bucket = client.bucket(model_repo)\n",
    "    blob = bucket.blob('model_assignment1.pkl')\n",
    "    source_file_name= model.path + '.pkl'\n",
    "   \n",
    "    blob.upload_from_filename(source_file_name)    \n",
    "    \n",
    "    print(f\"File {source_file_name} uploaded to {model_repo}.\")"
   ]
  },
  {
   "cell_type": "markdown",
   "id": "5ce80fda-8515-4f8b-afe0-459aa1f4fede",
   "metadata": {},
   "source": [
    "### Deploy the model at Vertext AI \n",
    "We can use Google Pre-built Kebeflow componets such as  EndpointCreateOp, ModelUploadOp, and ModelDeployOp to deploy the models locally at Vertex AI.\n",
    "\n",
    "\n"
   ]
  },
  {
   "cell_type": "markdown",
   "id": "166590b3-f788-4e4c-8e31-fb981da56966",
   "metadata": {},
   "source": [
    "#### Define the Pipeline"
   ]
  },
  {
   "cell_type": "code",
   "execution_count": 165,
   "id": "a96b6ae0-234b-4883-ae95-8599689a5e07",
   "metadata": {},
   "outputs": [],
   "source": [
    "# Define the workflow of the pipeline.\n",
    "@kfp.dsl.pipeline(\n",
    "    name=\"fraud-predictor-training-pipeline\")\n",
    "def pipeline(project_id: str, data_bucket: str, model_repo: str, dataset_feature_name: str, dataset_label_name: str):    \n",
    "    \n",
    "    di_op = download_data(\n",
    "        project_id=project_id,\n",
    "        bucket=data_bucket,\n",
    "        feature_dataset_name= dataset_feature_name,\n",
    "        label_dataset_name = dataset_label_name\n",
    "    )\n",
    "    \n",
    "    merge_op = merge_data(feature_dataset = di_op.outputs[\"feature_dataset\"],\n",
    "                          label_dataset = di_op.outputs[\"label_dataset\"])\n",
    "                          # merged_dataset: Output[Dataset])\n",
    "     \n",
    "    clean_op = clean_data(merged_dataset =  merge_op.outputs[\"merged_dataset\"]) \n",
    "                                            # cleaned_dataset: Output[Dataset]) \n",
    "                                            \n",
    "    train_test_split_op = train_test_split(cleaned_dataset = clean_op.outputs[\"cleaned_dataset\"])\n",
    "                                           # dataset_train: Output[Dataset], dataset_test: Output[Dataset])\n",
    "     \n",
    "    \n",
    "    train_lr_op = train_lr(train_dataset = train_test_split_op.outputs[\"dataset_train\"], test_dataset = train_test_split_op.outputs[\"dataset_test\"])\n",
    "                                            # model: Output[Model])\n",
    "    \n",
    "    train_knn_op = train_knn(train_dataset = train_test_split_op.outputs[\"dataset_train\"], test_dataset = train_test_split_op.outputs[\"dataset_test\"])\n",
    "                                            # model: Output[Model]):\n",
    "    \n",
    "    algo_selection_op = compare_model(metrics_knn = train_knn_op.outputs[\"metrics\"], \n",
    "                                      metrics_lr = train_lr_op.outputs[\"metrics\"]).after(train_lr_op, train_knn_op)\n",
    "\n",
    "    # defining the different conditions of algo selection                                 \n",
    "    with dsl.If(algo_selection_op.output==\"KNN\"):\n",
    "        predict_knn_op = predict_knn(model_knn = train_knn_op.outputs[\"model\"],test_data = train_test_split_op.outputs[\"dataset_test\"]\n",
    "                                     )\n",
    "        upload_model_knn_to_gc_op = upload_model_to_gcs(\n",
    "            project_id=project_id,\n",
    "            model_repo=model_repo,\n",
    "            model=train_knn_op.outputs['model']\n",
    "        ).after(predict_knn_op)    \n",
    "        \n",
    "    with dsl.If(algo_selection_op.output==\"LR\"):\n",
    "        predict_lr_op = predict_lr(model_lr = train_lr_op.outputs[\"model\"],test_data = train_test_split_op.outputs[\"dataset_test\"])\n",
    "        upload_model_knn_to_gc_op = upload_model_to_gcs(\n",
    "            project_id=project_id,\n",
    "            model_repo=model_repo,\n",
    "            model=train_lr_op.outputs['model']\n",
    "        ).after(predict_lr_op)    \n",
    "        \n",
    " "
   ]
  },
  {
   "cell_type": "markdown",
   "id": "ac278200-c580-4f40-bc8b-1817d3b13c13",
   "metadata": {},
   "source": [
    "#### Compile the pipeline into a JSON file"
   ]
  },
  {
   "cell_type": "code",
   "execution_count": 166,
   "id": "f8ee4b21-89e6-4f63-845c-b249556ea919",
   "metadata": {},
   "outputs": [],
   "source": [
    "from kfp import compiler\n",
    "compiler.Compiler().compile(pipeline_func=pipeline,\n",
    "        package_path='assignment1_model_pipeline.yaml')"
   ]
  },
  {
   "cell_type": "markdown",
   "id": "7f87025e-08d7-4608-b37d-c929b6eb5a3c",
   "metadata": {},
   "source": [
    "#### Submit the pipeline run"
   ]
  },
  {
   "cell_type": "code",
   "execution_count": 167,
   "id": "83b88e89-42cd-4e64-bc4e-8e3eddebccff",
   "metadata": {},
   "outputs": [
    {
     "name": "stdout",
     "output_type": "stream",
     "text": [
      "Creating PipelineJob\n",
      "PipelineJob created. Resource name: projects/553335810270/locations/us-central1/pipelineJobs/fraud-predictor-training-pipeline-20231019144629\n",
      "To use this PipelineJob in another session:\n",
      "pipeline_job = aiplatform.PipelineJob.get('projects/553335810270/locations/us-central1/pipelineJobs/fraud-predictor-training-pipeline-20231019144629')\n",
      "View Pipeline Job:\n",
      "https://console.cloud.google.com/vertex-ai/locations/us-central1/pipelines/runs/fraud-predictor-training-pipeline-20231019144629?project=553335810270\n",
      "PipelineJob projects/553335810270/locations/us-central1/pipelineJobs/fraud-predictor-training-pipeline-20231019144629 current state:\n",
      "PipelineState.PIPELINE_STATE_RUNNING\n",
      "PipelineJob projects/553335810270/locations/us-central1/pipelineJobs/fraud-predictor-training-pipeline-20231019144629 current state:\n",
      "PipelineState.PIPELINE_STATE_RUNNING\n",
      "PipelineJob projects/553335810270/locations/us-central1/pipelineJobs/fraud-predictor-training-pipeline-20231019144629 current state:\n",
      "PipelineState.PIPELINE_STATE_RUNNING\n",
      "PipelineJob projects/553335810270/locations/us-central1/pipelineJobs/fraud-predictor-training-pipeline-20231019144629 current state:\n",
      "PipelineState.PIPELINE_STATE_RUNNING\n",
      "PipelineJob projects/553335810270/locations/us-central1/pipelineJobs/fraud-predictor-training-pipeline-20231019144629 current state:\n",
      "PipelineState.PIPELINE_STATE_RUNNING\n",
      "PipelineJob projects/553335810270/locations/us-central1/pipelineJobs/fraud-predictor-training-pipeline-20231019144629 current state:\n",
      "PipelineState.PIPELINE_STATE_RUNNING\n",
      "PipelineJob run completed. Resource name: projects/553335810270/locations/us-central1/pipelineJobs/fraud-predictor-training-pipeline-20231019144629\n"
     ]
    }
   ],
   "source": [
    "import google.cloud.aiplatform as aip\n",
    "\n",
    "# Before initializing, make sure to set the GOOGLE_APPLICATION_CREDENTIALS\n",
    "# environment variable to the path of your service account.\n",
    "aip.init(\n",
    "    project=PROJECT_ID,\n",
    "    location=REGION,\n",
    ")\n",
    "\n",
    "# Prepare the pipeline job\n",
    "job = aip.PipelineJob(\n",
    "    display_name=\"assignment_1\",\n",
    "    enable_caching=False,\n",
    "    template_path=\"assignment1_model_pipeline.yaml\",\n",
    "    pipeline_root=PIPELINE_ROOT,\n",
    "    location=REGION,\n",
    "    parameter_values={\n",
    "        'project_id': PROJECT_ID, # makesure to use your project id \n",
    "        'data_bucket': 'data_de2023_2056332',  # the data_bucket name\n",
    "        'model_repo':'models_de2023_2056332', # GCP model repo bucket name\n",
    "        'dataset_feature_name' : 'Credit_card.csv', # the feature dataset name\n",
    "        'dataset_label_name': 'Credit_card_label.csv' # the label dataset name\n",
    "    }\n",
    ")\n",
    "\n",
    "job.run()"
   ]
  }
 ],
 "metadata": {
  "environment": {
   "kernel": "python3",
   "name": "common-cpu.m84",
   "type": "gcloud",
   "uri": "gcr.io/deeplearning-platform-release/base-cpu:m84"
  },
  "kernelspec": {
   "display_name": "Python (Local)",
   "language": "python",
   "name": "local-base"
  },
  "language_info": {
   "codemirror_mode": {
    "name": "ipython",
    "version": 3
   },
   "file_extension": ".py",
   "mimetype": "text/x-python",
   "name": "python",
   "nbconvert_exporter": "python",
   "pygments_lexer": "ipython3",
   "version": "3.10.12"
  }
 },
 "nbformat": 4,
 "nbformat_minor": 5
}
